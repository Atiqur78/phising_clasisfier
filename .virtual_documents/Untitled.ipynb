import pandas as pd
import numpy as np
import matplotlib.pyplot as plt
import seaborn as sns



df = pd.read_csv("upload_data_to_db/phising_08012020_120000.csv")
df.head()


df.dtypes


df.shape


df.describe()


df.isnull().sum()


plt.figure(figsize=(15,50), facecolor='white')
plotnumber = 1

for column in df.drop(['Result'], axis =1):
    ax = plt.subplot(12,3,plotnumber)
    sns.countplot(x=df[column],hue= df['Result'])
    plt.xlabel(column, fontsize = 10)
    plotnumber+=1
plt.show()


sns.countplot(df['Result'])



